{
 "cells": [
  {
   "cell_type": "markdown",
   "metadata": {},
   "source": [
    "# MNIST for ML Beginners"
   ]
  },
  {
   "cell_type": "markdown",
   "metadata": {
    "collapsed": true
   },
   "source": [
    "- This tutorial goes through the code in [`mnist_softmax.py`](https://github.com/tensorflow/tensorflow/blob/v0.10.0/tensorflow/examples/tutorials/mnist/mnist_softmax.py) line by line."
   ]
  },
  {
   "cell_type": "code",
   "execution_count": 3,
   "metadata": {
    "collapsed": false
   },
   "outputs": [
    {
     "name": "stdout",
     "output_type": "stream",
     "text": [
      "Successfully downloaded train-images-idx3-ubyte.gz 9912422 bytes.\n",
      "Extracting MNIST_data/train-images-idx3-ubyte.gz\n",
      "Successfully downloaded train-labels-idx1-ubyte.gz 28881 bytes.\n",
      "Extracting MNIST_data/train-labels-idx1-ubyte.gz\n",
      "Successfully downloaded t10k-images-idx3-ubyte.gz 1648877 bytes.\n",
      "Extracting MNIST_data/t10k-images-idx3-ubyte.gz\n",
      "Successfully downloaded t10k-labels-idx1-ubyte.gz 4542 bytes.\n",
      "Extracting MNIST_data/t10k-labels-idx1-ubyte.gz\n"
     ]
    }
   ],
   "source": [
    "# Download the MNIST data\n",
    "from tensorflow.examples.tutorials.mnist import input_data\n",
    "mnist = input_data.read_data_sets(\"MNIST_data/\", one_hot=True)"
   ]
  },
  {
   "cell_type": "markdown",
   "metadata": {},
   "source": [
    "- The MNIST data is split into three parts:\n",
    "    - 55,000 data points of training data (mnist.train)\n",
    "    - 10,000 points of test data (mnist.test)\n",
    "    - 5,000 points of validation data (mnist.validation)"
   ]
  },
  {
   "cell_type": "markdown",
   "metadata": {},
   "source": [
    "- [Visualizing the MNIST data](http://colah.github.io/posts/2014-10-Visualizing-MNIST/)"
   ]
  },
  {
   "cell_type": "markdown",
   "metadata": {},
   "source": [
    "- Each MNIST image is a 28 x 28 pixel image of a handwritten digit.\n",
    "- We will be flattening the image into a vector (or \"tensor\") of 784 dimensions, each dimension representing a pixel's intensity (a value between 0 and 1).\n",
    "- Since there are 55K images, our training data will have the shape [55000, 784].\n",
    "- Each image has a corresponding label from 0 to 9.\n",
    "- We will represent our labels in \"one-hot\" encoding, where each label will be a 10-dimension vector with one dimension \"switched on\", e.g. 3 would be [0, 0, 0, 1, 0, 0, 0, 0, 0, 0].\n",
    "- Our training labels will have the shape [55000, 10]."
   ]
  },
  {
   "cell_type": "code",
   "execution_count": null,
   "metadata": {
    "collapsed": true
   },
   "outputs": [],
   "source": []
  }
 ],
 "metadata": {
  "kernelspec": {
   "display_name": "Python 3",
   "language": "python",
   "name": "python3"
  },
  "language_info": {
   "codemirror_mode": {
    "name": "ipython",
    "version": 3
   },
   "file_extension": ".py",
   "mimetype": "text/x-python",
   "name": "python",
   "nbconvert_exporter": "python",
   "pygments_lexer": "ipython3",
   "version": "3.5.2"
  }
 },
 "nbformat": 4,
 "nbformat_minor": 0
}
