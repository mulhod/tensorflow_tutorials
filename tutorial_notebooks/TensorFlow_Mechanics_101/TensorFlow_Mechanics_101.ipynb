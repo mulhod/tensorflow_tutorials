{
 "cells": [
  {
   "cell_type": "markdown",
   "metadata": {},
   "source": [
    "# TensorFlow Mechanics 101"
   ]
  },
  {
   "cell_type": "markdown",
   "metadata": {},
   "source": [
    "- This tutorial is meant as a companion to the code [here](https://github.com/tensorflow/tensorflow/tree/master/tensorflow/examples/tutorials/mnist/)\n",
    "- The goal of this tutorial is to show how to use TensorFlow to train and evaluate a simple feed-forward neural network for handwritten digit classification using the (classic) MNIST data set. "
   ]
  },
  {
   "cell_type": "markdown",
   "metadata": {},
   "source": [
    "- [`mnist.py`](https://www.tensorflow.org/code/tensorflow/examples/tutorials/mnist/mnist.py), the code for making a fully-connected MNIST model\n",
    "- [`fully_connected_feed.py`](https://www.tensorflow.org/code/tensorflow/examples/tutorials/mnist/fully_connected_feed.py), the main code to train the built MNIST model against the downloaded dataset using a feed dictionary."
   ]
  },
  {
   "cell_type": "code",
   "execution_count": 14,
   "metadata": {
    "collapsed": true
   },
   "outputs": [],
   "source": [
    "import math\n",
    "import time\n",
    "import random\n",
    "from os import getcwd\n",
    "from os.path import join\n",
    "\n",
    "import pandas as pd\n",
    "import tensorflow as tf"
   ]
  },
  {
   "cell_type": "markdown",
   "metadata": {},
   "source": [
    "## Using a Custom e-rater Data-set"
   ]
  },
  {
   "cell_type": "code",
   "execution_count": 54,
   "metadata": {
    "collapsed": false
   },
   "outputs": [],
   "source": [
    "# Download test_data_revised.zip (in email since it can't be shared) and\n",
    "# save it somewhere, preferably in the directory in which this notebook is\n",
    "# stored. If it is somewhere else, just make sure to pass in the path when\n",
    "# this function is used.\n",
    "\n",
    "def read_praxis_data(macro_or_micro=\"macro\",\n",
    "                     validation_set=True,\n",
    "                     data_path=join(getcwd(), \"test_data_revised\")):\n",
    "    \"\"\"\n",
    "    Read in data from a directory with the following files:\n",
    "    testing_macro.csv and training_macro.csv.\n",
    "\n",
    "    Either read in the \"macro\" files or the \"micro\" files.\n",
    "\n",
    "    Returns 1) training IDs, features, and labels,\n",
    "            2) test IDs, features, and labels, and\n",
    "            3) validation IDs, features, and labels (if `validation_set` is\n",
    "               False, the test test set will contain all data originally in\n",
    "               the \"testing\" file).\n",
    "    \"\"\"\n",
    "    \n",
    "    train_data_path = join(data_path,\n",
    "                           \"training_{}.csv\"\n",
    "                           .format(macro_or_micro if macro_or_micro == \"macro\"\n",
    "                                   else \"micro_revised\"))\n",
    "    train_data = pd.read_csv(train_data_path, dtype={'appointment_id': str})\n",
    "    train_labels = train_data['H1'].apply(lambda x: x - 1)\n",
    "    train_features = train_data[[a for a in train_data.columns\n",
    "                                 if a not in ['appointment_id', 'H1']]]\n",
    "    train_ids = train_data['appointment_id']\n",
    "\n",
    "    test_data_path = join(data_path,\n",
    "                          \"testing_{}.csv\"\n",
    "                          .format(macro_or_micro if macro_or_micro == \"macro\"\n",
    "                                  else \"micro_revised\"))\n",
    "    test_data = pd.read_csv(test_data_path, dtype={'appointment_id': str})\n",
    "    if len(test_data) % 100:\n",
    "        test_data = test_data.head(len(test_data) - len(test_data) % 100)\n",
    "        \n",
    "    test_labels = test_data['H1'].apply(lambda x: x - 1)\n",
    "    test_features = test_data[[a for a in test_data.columns\n",
    "                               if a not in ['appointment_id', 'H1']]]\n",
    "    test_ids = test_data['appointment_id']\n",
    "\n",
    "    val_features = None\n",
    "    val_labels = None\n",
    "    val_ids = None\n",
    "    if validation_set:\n",
    "        test_amount = len(test_features) - 1000\n",
    "        val_features = test_features.head(1000)\n",
    "        test_features = test_features.tail(test_amount)\n",
    "        val_labels = test_labels.head(1000)\n",
    "        test_labels = test_labels.tail(test_amount)\n",
    "        val_ids = test_ids[:1000]\n",
    "        test_ids = test_ids[1000:]\n",
    "\n",
    "    return (train_ids,\n",
    "            train_features,\n",
    "            train_labels,\n",
    "            test_ids,\n",
    "            test_features,\n",
    "            test_labels,\n",
    "            val_ids,\n",
    "            val_features,\n",
    "            val_labels)"
   ]
  },
  {
   "cell_type": "code",
   "execution_count": 49,
   "metadata": {
    "collapsed": false
   },
   "outputs": [],
   "source": [
    "test_data_path = join(getcwd(), \"test_data_revised\",\n",
    "                          \"testing_{}.csv\"\n",
    "                          .format(\"micro_revised\"))"
   ]
  },
  {
   "cell_type": "code",
   "execution_count": 50,
   "metadata": {
    "collapsed": false
   },
   "outputs": [],
   "source": [
    "test_data = pd.read_csv(test_data_path, dtype={'appointment_id': str})"
   ]
  },
  {
   "cell_type": "code",
   "execution_count": 51,
   "metadata": {
    "collapsed": false
   },
   "outputs": [
    {
     "data": {
      "text/plain": [
       "50"
      ]
     },
     "execution_count": 51,
     "metadata": {},
     "output_type": "execute_result"
    }
   ],
   "source": [
    "len(test_data) % 100"
   ]
  },
  {
   "cell_type": "code",
   "execution_count": 53,
   "metadata": {
    "collapsed": false
   },
   "outputs": [
    {
     "data": {
      "text/plain": [
       "2700"
      ]
     },
     "execution_count": 53,
     "metadata": {},
     "output_type": "execute_result"
    }
   ],
   "source": [
    "len(test_data.head(len(test_data) - len(test_data) % 100))"
   ]
  },
  {
   "cell_type": "code",
   "execution_count": 55,
   "metadata": {
    "collapsed": true
   },
   "outputs": [],
   "source": [
    "# Choose \"micro\" or \"macro\". This will change the types of features we're\n",
    "# using. There are 220 \"micro\" features in total while thre are less than\n",
    "# 10 macro features.\n",
    "dataset_type = \"micro\""
   ]
  },
  {
   "cell_type": "code",
   "execution_count": 56,
   "metadata": {
    "collapsed": false
   },
   "outputs": [],
   "source": [
    "# Read in data\n",
    "(train_ids, train_features, train_labels,\n",
    " test_ids, test_features, test_labels,\n",
    " validation_ids, validation_features, validation_labels) = \\\n",
    "    read_praxis_data(macro_or_micro=dataset_type, validation_set=True)"
   ]
  },
  {
   "cell_type": "markdown",
   "metadata": {},
   "source": [
    "### Data and Data Shape"
   ]
  },
  {
   "cell_type": "code",
   "execution_count": 57,
   "metadata": {
    "collapsed": false
   },
   "outputs": [
    {
     "name": "stdout",
     "output_type": "stream",
     "text": [
      "Shape of data:\n",
      "\tTraining: (4000, 220)\n",
      "\tValidation: (1000, 220)\n",
      "\tTest: (1750, 220)\n",
      "Shape of labels data:\n",
      "\tTraining: (4000,)\n",
      "\tValidation: (1000,)\n",
      "\tTest: (1750,)\n"
     ]
    }
   ],
   "source": [
    "print(\"Shape of data:\\n\\tTraining: {}\\n\\tValidation: {}\\n\\tTest: {}\"\n",
    "      .format(train_features.shape,\n",
    "              None if validation_features is None else validation_features.shape,\n",
    "              test_features.shape))\n",
    "print(\"Shape of labels data:\\n\\tTraining: {}\\n\\tValidation: {}\\n\\tTest: {}\"\n",
    "      .format(train_labels.shape,\n",
    "              None if validation_labels is None else validation_labels.shape,\n",
    "              test_labels.shape))"
   ]
  },
  {
   "cell_type": "code",
   "execution_count": 19,
   "metadata": {
    "collapsed": false
   },
   "outputs": [
    {
     "data": {
      "text/html": [
       "<div>\n",
       "<table border=\"1\" class=\"dataframe\">\n",
       "  <thead>\n",
       "    <tr style=\"text-align: right;\">\n",
       "      <th></th>\n",
       "      <th>ABSTRACT_NOUNS_LESS127PLUS4_TYPE</th>\n",
       "      <th>ACA_DOWN_CNT_NORM</th>\n",
       "      <th>ADV_CAUSATIVE</th>\n",
       "      <th>ADV_COND</th>\n",
       "      <th>ADV_FOCUS</th>\n",
       "      <th>ADV_INSTANTIATION</th>\n",
       "      <th>ADV_NEG</th>\n",
       "      <th>ADV_PLACE_NORM</th>\n",
       "      <th>ADV_PLACEPRO</th>\n",
       "      <th>ADV_TEMP</th>\n",
       "      <th>...</th>\n",
       "      <th>WH</th>\n",
       "      <th>WH_ADVERB</th>\n",
       "      <th>WH_DETERMINER</th>\n",
       "      <th>WH_POSSESSIVE</th>\n",
       "      <th>WH_PRONOUN</th>\n",
       "      <th>WORD_CNT</th>\n",
       "      <th>WORDLEN</th>\n",
       "      <th>WORDS</th>\n",
       "      <th>WORDS2</th>\n",
       "      <th>WRDS_ENCL_QUOT</th>\n",
       "    </tr>\n",
       "  </thead>\n",
       "  <tbody>\n",
       "    <tr>\n",
       "      <th>0</th>\n",
       "      <td>0.931822</td>\n",
       "      <td>0.000000</td>\n",
       "      <td>0.000000</td>\n",
       "      <td>0.0</td>\n",
       "      <td>1.018449</td>\n",
       "      <td>0.0</td>\n",
       "      <td>0.460416</td>\n",
       "      <td>0.823499</td>\n",
       "      <td>0.931822</td>\n",
       "      <td>0.931822</td>\n",
       "      <td>...</td>\n",
       "      <td>1.018449</td>\n",
       "      <td>0.678845</td>\n",
       "      <td>1.018449</td>\n",
       "      <td>0.0</td>\n",
       "      <td>0.823499</td>\n",
       "      <td>530</td>\n",
       "      <td>4</td>\n",
       "      <td>526</td>\n",
       "      <td>276676</td>\n",
       "      <td>0</td>\n",
       "    </tr>\n",
       "    <tr>\n",
       "      <th>1</th>\n",
       "      <td>1.125961</td>\n",
       "      <td>0.405789</td>\n",
       "      <td>0.405789</td>\n",
       "      <td>0.0</td>\n",
       "      <td>0.751031</td>\n",
       "      <td>0.0</td>\n",
       "      <td>0.405789</td>\n",
       "      <td>0.000000</td>\n",
       "      <td>0.611850</td>\n",
       "      <td>0.751031</td>\n",
       "      <td>...</td>\n",
       "      <td>1.255310</td>\n",
       "      <td>0.856268</td>\n",
       "      <td>0.751031</td>\n",
       "      <td>0.0</td>\n",
       "      <td>1.072587</td>\n",
       "      <td>647</td>\n",
       "      <td>4</td>\n",
       "      <td>633</td>\n",
       "      <td>400689</td>\n",
       "      <td>0</td>\n",
       "    </tr>\n",
       "    <tr>\n",
       "      <th>2</th>\n",
       "      <td>1.239548</td>\n",
       "      <td>0.483586</td>\n",
       "      <td>0.000000</td>\n",
       "      <td>0.0</td>\n",
       "      <td>0.706716</td>\n",
       "      <td>0.0</td>\n",
       "      <td>0.706716</td>\n",
       "      <td>0.000000</td>\n",
       "      <td>0.483586</td>\n",
       "      <td>0.000000</td>\n",
       "      <td>...</td>\n",
       "      <td>1.239548</td>\n",
       "      <td>0.706716</td>\n",
       "      <td>0.853392</td>\n",
       "      <td>0.0</td>\n",
       "      <td>1.050184</td>\n",
       "      <td>489</td>\n",
       "      <td>4</td>\n",
       "      <td>481</td>\n",
       "      <td>231361</td>\n",
       "      <td>0</td>\n",
       "    </tr>\n",
       "    <tr>\n",
       "      <th>3</th>\n",
       "      <td>0.779966</td>\n",
       "      <td>0.000000</td>\n",
       "      <td>0.000000</td>\n",
       "      <td>0.0</td>\n",
       "      <td>1.043372</td>\n",
       "      <td>0.0</td>\n",
       "      <td>0.000000</td>\n",
       "      <td>1.043372</td>\n",
       "      <td>1.043372</td>\n",
       "      <td>0.779966</td>\n",
       "      <td>...</td>\n",
       "      <td>1.324293</td>\n",
       "      <td>1.043372</td>\n",
       "      <td>0.000000</td>\n",
       "      <td>0.0</td>\n",
       "      <td>1.043372</td>\n",
       "      <td>199</td>\n",
       "      <td>4</td>\n",
       "      <td>196</td>\n",
       "      <td>38416</td>\n",
       "      <td>0</td>\n",
       "    </tr>\n",
       "    <tr>\n",
       "      <th>4</th>\n",
       "      <td>1.485697</td>\n",
       "      <td>0.000000</td>\n",
       "      <td>0.493342</td>\n",
       "      <td>0.0</td>\n",
       "      <td>0.975738</td>\n",
       "      <td>0.0</td>\n",
       "      <td>0.865844</td>\n",
       "      <td>1.063364</td>\n",
       "      <td>0.718363</td>\n",
       "      <td>0.493342</td>\n",
       "      <td>...</td>\n",
       "      <td>0.975738</td>\n",
       "      <td>0.493342</td>\n",
       "      <td>0.493342</td>\n",
       "      <td>0.0</td>\n",
       "      <td>0.718363</td>\n",
       "      <td>473</td>\n",
       "      <td>4</td>\n",
       "      <td>471</td>\n",
       "      <td>221841</td>\n",
       "      <td>0</td>\n",
       "    </tr>\n",
       "  </tbody>\n",
       "</table>\n",
       "<p>5 rows × 220 columns</p>\n",
       "</div>"
      ],
      "text/plain": [
       "   ABSTRACT_NOUNS_LESS127PLUS4_TYPE  ACA_DOWN_CNT_NORM  ADV_CAUSATIVE  \\\n",
       "0                          0.931822           0.000000       0.000000   \n",
       "1                          1.125961           0.405789       0.405789   \n",
       "2                          1.239548           0.483586       0.000000   \n",
       "3                          0.779966           0.000000       0.000000   \n",
       "4                          1.485697           0.000000       0.493342   \n",
       "\n",
       "   ADV_COND  ADV_FOCUS  ADV_INSTANTIATION   ADV_NEG  ADV_PLACE_NORM  \\\n",
       "0       0.0   1.018449                0.0  0.460416        0.823499   \n",
       "1       0.0   0.751031                0.0  0.405789        0.000000   \n",
       "2       0.0   0.706716                0.0  0.706716        0.000000   \n",
       "3       0.0   1.043372                0.0  0.000000        1.043372   \n",
       "4       0.0   0.975738                0.0  0.865844        1.063364   \n",
       "\n",
       "   ADV_PLACEPRO  ADV_TEMP       ...              WH  WH_ADVERB  WH_DETERMINER  \\\n",
       "0      0.931822  0.931822       ...        1.018449   0.678845       1.018449   \n",
       "1      0.611850  0.751031       ...        1.255310   0.856268       0.751031   \n",
       "2      0.483586  0.000000       ...        1.239548   0.706716       0.853392   \n",
       "3      1.043372  0.779966       ...        1.324293   1.043372       0.000000   \n",
       "4      0.718363  0.493342       ...        0.975738   0.493342       0.493342   \n",
       "\n",
       "   WH_POSSESSIVE  WH_PRONOUN  WORD_CNT  WORDLEN  WORDS  WORDS2  WRDS_ENCL_QUOT  \n",
       "0            0.0    0.823499       530        4    526  276676               0  \n",
       "1            0.0    1.072587       647        4    633  400689               0  \n",
       "2            0.0    1.050184       489        4    481  231361               0  \n",
       "3            0.0    1.043372       199        4    196   38416               0  \n",
       "4            0.0    0.718363       473        4    471  221841               0  \n",
       "\n",
       "[5 rows x 220 columns]"
      ]
     },
     "execution_count": 19,
     "metadata": {},
     "output_type": "execute_result"
    }
   ],
   "source": [
    "# What the features look like\n",
    "train_features.head()"
   ]
  },
  {
   "cell_type": "code",
   "execution_count": 20,
   "metadata": {
    "collapsed": false
   },
   "outputs": [
    {
     "data": {
      "text/plain": [
       "0    3.0\n",
       "1    4.0\n",
       "2    3.0\n",
       "3    2.0\n",
       "4    4.0\n",
       "5    3.0\n",
       "6    2.0\n",
       "7    1.0\n",
       "8    3.0\n",
       "9    3.0\n",
       "Name: H1, dtype: float64"
      ]
     },
     "execution_count": 20,
     "metadata": {},
     "output_type": "execute_result"
    }
   ],
   "source": [
    "# Labels are on a 0 to 5 scale (scores 1 to 6)\n",
    "train_labels[:10]"
   ]
  },
  {
   "cell_type": "code",
   "execution_count": 21,
   "metadata": {
    "collapsed": false
   },
   "outputs": [
    {
     "data": {
      "text/plain": [
       "3.0    2086\n",
       "2.0    1279\n",
       "4.0     405\n",
       "1.0     178\n",
       "5.0      41\n",
       "0.0      11\n",
       "Name: H1, dtype: int64"
      ]
     },
     "execution_count": 21,
     "metadata": {},
     "output_type": "execute_result"
    }
   ],
   "source": [
    "train_labels.value_counts()"
   ]
  },
  {
   "cell_type": "code",
   "execution_count": 27,
   "metadata": {
    "collapsed": false
   },
   "outputs": [
    {
     "data": {
      "text/plain": [
       "3.0    889\n",
       "2.0    576\n",
       "4.0    196\n",
       "1.0     70\n",
       "5.0     15\n",
       "0.0      4\n",
       "Name: H1, dtype: int64"
      ]
     },
     "execution_count": 27,
     "metadata": {},
     "output_type": "execute_result"
    }
   ],
   "source": [
    "test_labels.value_counts()"
   ]
  },
  {
   "cell_type": "code",
   "execution_count": 28,
   "metadata": {
    "collapsed": false
   },
   "outputs": [
    {
     "data": {
      "text/plain": [
       "3.0    506\n",
       "2.0    337\n",
       "4.0    107\n",
       "1.0     42\n",
       "5.0      6\n",
       "0.0      2\n",
       "Name: H1, dtype: int64"
      ]
     },
     "execution_count": 28,
     "metadata": {},
     "output_type": "execute_result"
    }
   ],
   "source": [
    "validation_labels.value_counts()"
   ]
  },
  {
   "cell_type": "code",
   "execution_count": 22,
   "metadata": {
    "collapsed": false
   },
   "outputs": [],
   "source": [
    "# Define some parameters\n",
    "log_dir_path = join(getcwd(), \"logs\")\n",
    "learning_rate = 0.01\n",
    "max_steps = 2000\n",
    "if dataset_type == \"macro\":\n",
    "    hidden1 = 64\n",
    "    hidden2 = 32\n",
    "    hidden3 = 16\n",
    "    NUM_FEATURES = 9\n",
    "else:\n",
    "    hidden1 = 512\n",
    "    hidden2 = 256\n",
    "    hidden3 = 128\n",
    "    NUM_FEATURES = 220\n",
    "batch_size = 100\n",
    "NUM_CLASSES = 6"
   ]
  },
  {
   "cell_type": "markdown",
   "metadata": {},
   "source": [
    "## Functions Based on `mnist.py`"
   ]
  },
  {
   "cell_type": "code",
   "execution_count": 31,
   "metadata": {
    "collapsed": true
   },
   "outputs": [],
   "source": [
    "def inference(inputs, num_features, num_classes, hidden1_units,\n",
    "              hidden2_units, hidden3_units):\n",
    "    \"\"\"\n",
    "    Build a model on the inputs up to where it may be used for\n",
    "    inference.\n",
    "\n",
    "    Args:\n",
    "        inputs: Placeholder for input data samples.\n",
    "        num_features: Number of features in input data.\n",
    "        num_classes: Number of classes/score labels.\n",
    "        hidden1_units: Size of the first hidden layer.\n",
    "        hidden2_units: Size of the second hidden layer.\n",
    "        hidden3_units: Size of the third hidden layer.\n",
    "\n",
    "    Returns:\n",
    "        softmax_linear: Output tensor with the computed logits.\n",
    "    \"\"\"\n",
    "\n",
    "    # Hidden 1\n",
    "    with tf.name_scope('hidden1'):\n",
    "        weights = tf.Variable(\n",
    "              tf.truncated_normal([num_features, hidden1_units],\n",
    "                                  stddev=1.0 / math.sqrt(float(num_features))),\n",
    "              name='weights')\n",
    "        biases = tf.Variable(tf.zeros([hidden1_units]),\n",
    "                             name='biases')\n",
    "        hidden1 = tf.nn.relu(tf.matmul(inputs, weights) + biases)\n",
    "\n",
    "    # Hidden 2\n",
    "    with tf.name_scope('hidden2'):\n",
    "        weights = tf.Variable(\n",
    "            tf.truncated_normal([hidden1_units, hidden2_units],\n",
    "                                stddev=1.0 / math.sqrt(float(hidden1_units))),\n",
    "            name='weights')\n",
    "        biases = tf.Variable(tf.zeros([hidden2_units]),\n",
    "                             name='biases')\n",
    "        hidden2 = tf.nn.relu(tf.matmul(hidden1, weights) + biases)\n",
    "\n",
    "    # Hidden 3\n",
    "    with tf.name_scope('hidden3'):\n",
    "        weights = tf.Variable(\n",
    "            tf.truncated_normal([hidden2_units, hidden3_units],\n",
    "                                stddev=1.0 / math.sqrt(float(hidden2_units))),\n",
    "            name='weights')\n",
    "        biases = tf.Variable(tf.zeros([hidden3_units]),\n",
    "                             name='biases')\n",
    "        hidden3 = tf.nn.relu(tf.matmul(hidden2, weights) + biases)\n",
    "\n",
    "    # Linear\n",
    "    with tf.name_scope('softmax_linear'):\n",
    "        weights = tf.Variable(\n",
    "            tf.truncated_normal([hidden3_units, num_classes],\n",
    "                                stddev=1.0 / math.sqrt(float(hidden3_units))),\n",
    "            name='weights')\n",
    "        biases = tf.Variable(tf.zeros([num_classes]),\n",
    "                             name='biases')\n",
    "        logits = tf.matmul(hidden3, weights) + biases\n",
    "\n",
    "    return logits\n",
    "\n",
    "\n",
    "def loss(logits, labels):\n",
    "    \"\"\"\n",
    "    Calculates the loss from the logits and the labels.\n",
    "\n",
    "    Args:\n",
    "        logits: Logits tensor, float - [batch_size, NUM_CLASSES].\n",
    "        labels: Labels tensor, int32 - [batch_size].\n",
    "\n",
    "    Returns:\n",
    "        loss: Loss tensor of type float.\n",
    "    \"\"\"\n",
    "\n",
    "    labels = tf.to_int64(labels)\n",
    "    cross_entropy = \\\n",
    "        tf.nn.sparse_softmax_cross_entropy_with_logits(labels=labels,\n",
    "                                                       logits=logits,\n",
    "                                                       name='xentropy')\n",
    "\n",
    "    return tf.reduce_mean(cross_entropy, name='xentropy_mean')\n",
    "\n",
    "\n",
    "def training(loss, learning_rate):\n",
    "    \"\"\"\n",
    "    Sets up the training Ops.\n",
    "    \n",
    "    Creates a summarizer to track the loss over time in TensorBoard.\n",
    "    Creates an optimizer and applies the gradients to all trainable\n",
    "    variables.\n",
    "    \n",
    "    The Op returned by this function is what must be passed to the\n",
    "    `sess.run()` call to cause the model to train.\n",
    "\n",
    "    Args:\n",
    "        loss: Loss tensor, from loss().\n",
    "        learning_rate: The learning rate to use for gradient descent.\n",
    "\n",
    "    Returns:\n",
    "        train_op: The Op for training.\n",
    "    \"\"\"\n",
    "\n",
    "    # Add a scalar summary for the snapshot loss.\n",
    "    tf.summary.scalar('loss', loss)\n",
    "\n",
    "    # Create the gradient descent optimizer with the given learning\n",
    "    # rate.\n",
    "    optimizer = tf.train.GradientDescentOptimizer(learning_rate)\n",
    "\n",
    "    # Create a variable to track the global step.\n",
    "    global_step = tf.Variable(0, name='global_step', trainable=False)\n",
    "\n",
    "    # Use the optimizer to apply the gradients that minimize the loss\n",
    "    # (and also increment the global step counter) as a single\n",
    "    # training step.\n",
    "    train_op = optimizer.minimize(loss, global_step=global_step)\n",
    "\n",
    "    return train_op\n",
    "\n",
    "\n",
    "def evaluation(logits, labels):\n",
    "    \"\"\"\n",
    "    Evaluate the quality of the logits at predicting the label.\n",
    "\n",
    "    Args:\n",
    "        logits: Logits tensor, float - [batch_size, NUM_CLASSES].\n",
    "        labels: Labels tensor, int32 - [batch_size], with values in the\n",
    "                range [0, NUM_CLASSES).\n",
    "\n",
    "    Returns:\n",
    "        A scalar int32 tensor with the number of examples (out of\n",
    "        batch_size) that were predicted correctly.\n",
    "    \"\"\"\n",
    "\n",
    "    # For a classifier model, we can use the in_top_k Op.\n",
    "    # It returns a bool tensor with shape [batch_size] that is true for\n",
    "    # the examples where the label is in the top k (here k=1)\n",
    "    # of all logits for that example.\n",
    "    correct = tf.nn.in_top_k(logits, labels, 1)\n",
    "\n",
    "    # Return the number of true entries.\n",
    "    return tf.reduce_sum(tf.cast(correct, tf.int32))"
   ]
  },
  {
   "cell_type": "code",
   "execution_count": 32,
   "metadata": {
    "collapsed": false
   },
   "outputs": [],
   "source": [
    "# From fully_connected_feed.py\n",
    "def fill_feed_dict(features, labels, inputs_pl, labels_pl, batch_size):\n",
    "    \"\"\"\n",
    "    Fills the feed_dict for training the given step.\n",
    "\n",
    "    A feed_dict takes the form of:\n",
    "    feed_dict = {\n",
    "        <placeholder>: <tensor of values to be passed for placeholder>,\n",
    "        ....\n",
    "    }\n",
    "\n",
    "    Args:\n",
    "        data_set: The set of features and labels.\n",
    "        inputs_pl: The input data placeholder.\n",
    "        labels_pl: The input labels placeholder.\n",
    "        batch_size: Size of each randomly-selected batch.\n",
    "\n",
    "    Returns:\n",
    "        feed_dict: The feed dictionary mapping from placeholders to values.\n",
    "    \"\"\"\n",
    "    # Create the feed_dict for the placeholders filled with the next\n",
    "    # `batch_size` samples.\n",
    "    sample = random.sample(range(len(features)), k=batch_size)\n",
    "    inputs_feed = features.ix[sample]\n",
    "    labels_feed = labels.ix[sample]\n",
    "    \n",
    "    \n",
    "    feed_dict = {\n",
    "        inputs_pl: inputs_feed,\n",
    "        labels_pl: labels_feed,\n",
    "    }\n",
    "\n",
    "    return feed_dict\n",
    "\n",
    "\n",
    "def do_eval(sess, eval_correct, inputs_placeholder, labels_placeholder,\n",
    "            features, labels):\n",
    "    \"\"\"\n",
    "    Runs one evaluation against the full epoch of data.\n",
    "\n",
    "    Args:\n",
    "        sess: The session in which the model has been trained.\n",
    "        eval_correct: The Tensor that returns the number of correct\n",
    "                      predictions.\n",
    "        inputs_placeholder: The input data placeholder.\n",
    "        labels_placeholder: The labels placeholder.\n",
    "        data_set: The set of images and labels to evaluate, from\n",
    "                  input_data.read_data_sets().\n",
    "    \"\"\"\n",
    "\n",
    "    # And run one epoch of eval.\n",
    "    true_count = 0  # Counts the number of correct predictions.\n",
    "    steps_per_epoch = features.shape[0] // batch_size\n",
    "    num_examples = steps_per_epoch * batch_size\n",
    "    for step in range(steps_per_epoch):\n",
    "        feed_dict = fill_feed_dict(features, labels,\n",
    "                                   inputs_placeholder,\n",
    "                                   labels_placeholder,\n",
    "                                   batch_size)\n",
    "        logit_output, true_cnt = sess.run([logits, eval_correct],\n",
    "                                          feed_dict=feed_dict)\n",
    "        true_count += true_cnt\n",
    "\n",
    "    precision = float(true_count) / num_examples\n",
    "    print('  Num examples: %d  Num correct: %d  Precision @ 1: %0.04f' %\n",
    "          (num_examples, true_count, precision))"
   ]
  },
  {
   "cell_type": "code",
   "execution_count": 34,
   "metadata": {
    "collapsed": false
   },
   "outputs": [
    {
     "name": "stdout",
     "output_type": "stream",
     "text": [
      "Step 0: loss = 1.79 (0.013 sec)\n",
      "Step 100: loss = 1.59 (0.009 sec)\n",
      "Step 200: loss = 1.44 (0.011 sec)\n",
      "Step 300: loss = 1.45 (0.009 sec)\n",
      "Step 400: loss = 1.38 (0.009 sec)\n",
      "Step 500: loss = 1.28 (0.010 sec)\n",
      "Step 600: loss = 1.34 (0.009 sec)\n",
      "Step 700: loss = 1.31 (0.011 sec)\n",
      "Step 800: loss = 1.14 (0.010 sec)\n",
      "Step 900: loss = 1.26 (0.010 sec)\n",
      "Test Data Eval:\n",
      "  Num examples: 4000  Num correct: 2054  Precision @ 1: 0.5135\n",
      "Validation Data Eval:\n",
      "  Num examples: 1000  Num correct: 506  Precision @ 1: 0.5060\n",
      "Test Data Eval:\n"
     ]
    },
    {
     "ename": "InvalidArgumentError",
     "evalue": "targets[1] is out of range\n\t [[Node: InTopK = InTopK[T=DT_INT32, k=1, _device=\"/job:localhost/replica:0/task:0/cpu:0\"](softmax_linear/add, _recv_Placeholder_1_0)]]\n\nCaused by op 'InTopK', defined at:\n  File \"/home/mmulholland/Documents/learning/tensorflow/tf_env/lib/python3.5/runpy.py\", line 184, in _run_module_as_main\n    \"__main__\", mod_spec)\n  File \"/home/mmulholland/Documents/learning/tensorflow/tf_env/lib/python3.5/runpy.py\", line 85, in _run_code\n    exec(code, run_globals)\n  File \"/home/mmulholland/Documents/learning/tensorflow/tf_env/lib/python3.5/site-packages/ipykernel/__main__.py\", line 3, in <module>\n    app.launch_new_instance()\n  File \"/home/mmulholland/Documents/learning/tensorflow/tf_env/lib/python3.5/site-packages/traitlets/config/application.py\", line 653, in launch_instance\n    app.start()\n  File \"/home/mmulholland/Documents/learning/tensorflow/tf_env/lib/python3.5/site-packages/ipykernel/kernelapp.py\", line 474, in start\n    ioloop.IOLoop.instance().start()\n  File \"/home/mmulholland/Documents/learning/tensorflow/tf_env/lib/python3.5/site-packages/zmq/eventloop/ioloop.py\", line 177, in start\n    super(ZMQIOLoop, self).start()\n  File \"/home/mmulholland/Documents/learning/tensorflow/tf_env/lib/python3.5/site-packages/tornado/ioloop.py\", line 887, in start\n    handler_func(fd_obj, events)\n  File \"/home/mmulholland/Documents/learning/tensorflow/tf_env/lib/python3.5/site-packages/tornado/stack_context.py\", line 275, in null_wrapper\n    return fn(*args, **kwargs)\n  File \"/home/mmulholland/Documents/learning/tensorflow/tf_env/lib/python3.5/site-packages/zmq/eventloop/zmqstream.py\", line 440, in _handle_events\n    self._handle_recv()\n  File \"/home/mmulholland/Documents/learning/tensorflow/tf_env/lib/python3.5/site-packages/zmq/eventloop/zmqstream.py\", line 472, in _handle_recv\n    self._run_callback(callback, msg)\n  File \"/home/mmulholland/Documents/learning/tensorflow/tf_env/lib/python3.5/site-packages/zmq/eventloop/zmqstream.py\", line 414, in _run_callback\n    callback(*args, **kwargs)\n  File \"/home/mmulholland/Documents/learning/tensorflow/tf_env/lib/python3.5/site-packages/tornado/stack_context.py\", line 275, in null_wrapper\n    return fn(*args, **kwargs)\n  File \"/home/mmulholland/Documents/learning/tensorflow/tf_env/lib/python3.5/site-packages/ipykernel/kernelbase.py\", line 276, in dispatcher\n    return self.dispatch_shell(stream, msg)\n  File \"/home/mmulholland/Documents/learning/tensorflow/tf_env/lib/python3.5/site-packages/ipykernel/kernelbase.py\", line 228, in dispatch_shell\n    handler(stream, idents, msg)\n  File \"/home/mmulholland/Documents/learning/tensorflow/tf_env/lib/python3.5/site-packages/ipykernel/kernelbase.py\", line 390, in execute_request\n    user_expressions, allow_stdin)\n  File \"/home/mmulholland/Documents/learning/tensorflow/tf_env/lib/python3.5/site-packages/ipykernel/ipkernel.py\", line 196, in do_execute\n    res = shell.run_cell(code, store_history=store_history, silent=silent)\n  File \"/home/mmulholland/Documents/learning/tensorflow/tf_env/lib/python3.5/site-packages/ipykernel/zmqshell.py\", line 501, in run_cell\n    return super(ZMQInteractiveShell, self).run_cell(*args, **kwargs)\n  File \"/home/mmulholland/Documents/learning/tensorflow/tf_env/lib/python3.5/site-packages/IPython/core/interactiveshell.py\", line 2717, in run_cell\n    interactivity=interactivity, compiler=compiler, result=result)\n  File \"/home/mmulholland/Documents/learning/tensorflow/tf_env/lib/python3.5/site-packages/IPython/core/interactiveshell.py\", line 2821, in run_ast_nodes\n    if self.run_code(code, result):\n  File \"/home/mmulholland/Documents/learning/tensorflow/tf_env/lib/python3.5/site-packages/IPython/core/interactiveshell.py\", line 2881, in run_code\n    exec(code_obj, self.user_global_ns, self.user_ns)\n  File \"<ipython-input-34-e27d4ffe5b4a>\", line 24, in <module>\n    eval_correct = evaluation(logits, labels_placeholder)\n  File \"<ipython-input-31-6cb429fd6c59>\", line 137, in evaluation\n    correct = tf.nn.in_top_k(logits, labels, 1)\n  File \"/home/mmulholland/Documents/learning/tensorflow/tf_env/lib/python3.5/site-packages/tensorflow/python/ops/gen_nn_ops.py\", line 1449, in in_top_k\n    targets=targets, k=k, name=name)\n  File \"/home/mmulholland/Documents/learning/tensorflow/tf_env/lib/python3.5/site-packages/tensorflow/python/framework/op_def_library.py\", line 759, in apply_op\n    op_def=op_def)\n  File \"/home/mmulholland/Documents/learning/tensorflow/tf_env/lib/python3.5/site-packages/tensorflow/python/framework/ops.py\", line 2240, in create_op\n    original_op=self._default_original_op, op_def=op_def)\n  File \"/home/mmulholland/Documents/learning/tensorflow/tf_env/lib/python3.5/site-packages/tensorflow/python/framework/ops.py\", line 1128, in __init__\n    self._traceback = _extract_stack()\n\nInvalidArgumentError (see above for traceback): targets[1] is out of range\n\t [[Node: InTopK = InTopK[T=DT_INT32, k=1, _device=\"/job:localhost/replica:0/task:0/cpu:0\"](softmax_linear/add, _recv_Placeholder_1_0)]]\n",
     "output_type": "error",
     "traceback": [
      "\u001b[0;31m---------------------------------------------------------------------------\u001b[0m",
      "\u001b[0;31mInvalidArgumentError\u001b[0m                      Traceback (most recent call last)",
      "\u001b[0;32m/home/mmulholland/Documents/learning/tensorflow/tf_env/lib/python3.5/site-packages/tensorflow/python/client/session.py\u001b[0m in \u001b[0;36m_do_call\u001b[0;34m(self, fn, *args)\u001b[0m\n\u001b[1;32m   1020\u001b[0m     \u001b[0;32mtry\u001b[0m\u001b[0;34m:\u001b[0m\u001b[0;34m\u001b[0m\u001b[0m\n\u001b[0;32m-> 1021\u001b[0;31m       \u001b[0;32mreturn\u001b[0m \u001b[0mfn\u001b[0m\u001b[0;34m(\u001b[0m\u001b[0;34m*\u001b[0m\u001b[0margs\u001b[0m\u001b[0;34m)\u001b[0m\u001b[0;34m\u001b[0m\u001b[0m\n\u001b[0m\u001b[1;32m   1022\u001b[0m     \u001b[0;32mexcept\u001b[0m \u001b[0merrors\u001b[0m\u001b[0;34m.\u001b[0m\u001b[0mOpError\u001b[0m \u001b[0;32mas\u001b[0m \u001b[0me\u001b[0m\u001b[0;34m:\u001b[0m\u001b[0;34m\u001b[0m\u001b[0m\n",
      "\u001b[0;32m/home/mmulholland/Documents/learning/tensorflow/tf_env/lib/python3.5/site-packages/tensorflow/python/client/session.py\u001b[0m in \u001b[0;36m_run_fn\u001b[0;34m(session, feed_dict, fetch_list, target_list, options, run_metadata)\u001b[0m\n\u001b[1;32m   1002\u001b[0m                                  \u001b[0mfeed_dict\u001b[0m\u001b[0;34m,\u001b[0m \u001b[0mfetch_list\u001b[0m\u001b[0;34m,\u001b[0m \u001b[0mtarget_list\u001b[0m\u001b[0;34m,\u001b[0m\u001b[0;34m\u001b[0m\u001b[0m\n\u001b[0;32m-> 1003\u001b[0;31m                                  status, run_metadata)\n\u001b[0m\u001b[1;32m   1004\u001b[0m \u001b[0;34m\u001b[0m\u001b[0m\n",
      "\u001b[0;32m/home/mmulholland/Documents/learning/tensorflow/tf_env/lib/python3.5/contextlib.py\u001b[0m in \u001b[0;36m__exit__\u001b[0;34m(self, type, value, traceback)\u001b[0m\n\u001b[1;32m     65\u001b[0m             \u001b[0;32mtry\u001b[0m\u001b[0;34m:\u001b[0m\u001b[0;34m\u001b[0m\u001b[0m\n\u001b[0;32m---> 66\u001b[0;31m                 \u001b[0mnext\u001b[0m\u001b[0;34m(\u001b[0m\u001b[0mself\u001b[0m\u001b[0;34m.\u001b[0m\u001b[0mgen\u001b[0m\u001b[0;34m)\u001b[0m\u001b[0;34m\u001b[0m\u001b[0m\n\u001b[0m\u001b[1;32m     67\u001b[0m             \u001b[0;32mexcept\u001b[0m \u001b[0mStopIteration\u001b[0m\u001b[0;34m:\u001b[0m\u001b[0;34m\u001b[0m\u001b[0m\n",
      "\u001b[0;32m/home/mmulholland/Documents/learning/tensorflow/tf_env/lib/python3.5/site-packages/tensorflow/python/framework/errors_impl.py\u001b[0m in \u001b[0;36mraise_exception_on_not_ok_status\u001b[0;34m()\u001b[0m\n\u001b[1;32m    468\u001b[0m           \u001b[0mcompat\u001b[0m\u001b[0;34m.\u001b[0m\u001b[0mas_text\u001b[0m\u001b[0;34m(\u001b[0m\u001b[0mpywrap_tensorflow\u001b[0m\u001b[0;34m.\u001b[0m\u001b[0mTF_Message\u001b[0m\u001b[0;34m(\u001b[0m\u001b[0mstatus\u001b[0m\u001b[0;34m)\u001b[0m\u001b[0;34m)\u001b[0m\u001b[0;34m,\u001b[0m\u001b[0;34m\u001b[0m\u001b[0m\n\u001b[0;32m--> 469\u001b[0;31m           pywrap_tensorflow.TF_GetCode(status))\n\u001b[0m\u001b[1;32m    470\u001b[0m   \u001b[0;32mfinally\u001b[0m\u001b[0;34m:\u001b[0m\u001b[0;34m\u001b[0m\u001b[0m\n",
      "\u001b[0;31mInvalidArgumentError\u001b[0m: targets[1] is out of range\n\t [[Node: InTopK = InTopK[T=DT_INT32, k=1, _device=\"/job:localhost/replica:0/task:0/cpu:0\"](softmax_linear/add, _recv_Placeholder_1_0)]]",
      "\nDuring handling of the above exception, another exception occurred:\n",
      "\u001b[0;31mInvalidArgumentError\u001b[0m                      Traceback (most recent call last)",
      "\u001b[0;32m<ipython-input-34-e27d4ffe5b4a>\u001b[0m in \u001b[0;36m<module>\u001b[0;34m()\u001b[0m\n\u001b[1;32m    102\u001b[0m                     \u001b[0minputs_placeholder\u001b[0m\u001b[0;34m,\u001b[0m\u001b[0;34m\u001b[0m\u001b[0m\n\u001b[1;32m    103\u001b[0m                     \u001b[0mlabels_placeholder\u001b[0m\u001b[0;34m,\u001b[0m\u001b[0;34m\u001b[0m\u001b[0m\n\u001b[0;32m--> 104\u001b[0;31m                     test_features, test_labels)\n\u001b[0m",
      "\u001b[0;32m<ipython-input-32-bc3053239c66>\u001b[0m in \u001b[0;36mdo_eval\u001b[0;34m(sess, eval_correct, inputs_placeholder, labels_placeholder, features, labels)\u001b[0m\n\u001b[1;32m     59\u001b[0m                                    batch_size)\n\u001b[1;32m     60\u001b[0m         logit_output, true_cnt = sess.run([logits, eval_correct],\n\u001b[0;32m---> 61\u001b[0;31m                                           feed_dict=feed_dict)\n\u001b[0m\u001b[1;32m     62\u001b[0m         \u001b[0mtrue_count\u001b[0m \u001b[0;34m+=\u001b[0m \u001b[0mtrue_cnt\u001b[0m\u001b[0;34m\u001b[0m\u001b[0m\n\u001b[1;32m     63\u001b[0m \u001b[0;34m\u001b[0m\u001b[0m\n",
      "\u001b[0;32m/home/mmulholland/Documents/learning/tensorflow/tf_env/lib/python3.5/site-packages/tensorflow/python/client/session.py\u001b[0m in \u001b[0;36mrun\u001b[0;34m(self, fetches, feed_dict, options, run_metadata)\u001b[0m\n\u001b[1;32m    764\u001b[0m     \u001b[0;32mtry\u001b[0m\u001b[0;34m:\u001b[0m\u001b[0;34m\u001b[0m\u001b[0m\n\u001b[1;32m    765\u001b[0m       result = self._run(None, fetches, feed_dict, options_ptr,\n\u001b[0;32m--> 766\u001b[0;31m                          run_metadata_ptr)\n\u001b[0m\u001b[1;32m    767\u001b[0m       \u001b[0;32mif\u001b[0m \u001b[0mrun_metadata\u001b[0m\u001b[0;34m:\u001b[0m\u001b[0;34m\u001b[0m\u001b[0m\n\u001b[1;32m    768\u001b[0m         \u001b[0mproto_data\u001b[0m \u001b[0;34m=\u001b[0m \u001b[0mtf_session\u001b[0m\u001b[0;34m.\u001b[0m\u001b[0mTF_GetBuffer\u001b[0m\u001b[0;34m(\u001b[0m\u001b[0mrun_metadata_ptr\u001b[0m\u001b[0;34m)\u001b[0m\u001b[0;34m\u001b[0m\u001b[0m\n",
      "\u001b[0;32m/home/mmulholland/Documents/learning/tensorflow/tf_env/lib/python3.5/site-packages/tensorflow/python/client/session.py\u001b[0m in \u001b[0;36m_run\u001b[0;34m(self, handle, fetches, feed_dict, options, run_metadata)\u001b[0m\n\u001b[1;32m    962\u001b[0m     \u001b[0;32mif\u001b[0m \u001b[0mfinal_fetches\u001b[0m \u001b[0;32mor\u001b[0m \u001b[0mfinal_targets\u001b[0m\u001b[0;34m:\u001b[0m\u001b[0;34m\u001b[0m\u001b[0m\n\u001b[1;32m    963\u001b[0m       results = self._do_run(handle, final_targets, final_fetches,\n\u001b[0;32m--> 964\u001b[0;31m                              feed_dict_string, options, run_metadata)\n\u001b[0m\u001b[1;32m    965\u001b[0m     \u001b[0;32melse\u001b[0m\u001b[0;34m:\u001b[0m\u001b[0;34m\u001b[0m\u001b[0m\n\u001b[1;32m    966\u001b[0m       \u001b[0mresults\u001b[0m \u001b[0;34m=\u001b[0m \u001b[0;34m[\u001b[0m\u001b[0;34m]\u001b[0m\u001b[0;34m\u001b[0m\u001b[0m\n",
      "\u001b[0;32m/home/mmulholland/Documents/learning/tensorflow/tf_env/lib/python3.5/site-packages/tensorflow/python/client/session.py\u001b[0m in \u001b[0;36m_do_run\u001b[0;34m(self, handle, target_list, fetch_list, feed_dict, options, run_metadata)\u001b[0m\n\u001b[1;32m   1012\u001b[0m     \u001b[0;32mif\u001b[0m \u001b[0mhandle\u001b[0m \u001b[0;32mis\u001b[0m \u001b[0;32mNone\u001b[0m\u001b[0;34m:\u001b[0m\u001b[0;34m\u001b[0m\u001b[0m\n\u001b[1;32m   1013\u001b[0m       return self._do_call(_run_fn, self._session, feed_dict, fetch_list,\n\u001b[0;32m-> 1014\u001b[0;31m                            target_list, options, run_metadata)\n\u001b[0m\u001b[1;32m   1015\u001b[0m     \u001b[0;32melse\u001b[0m\u001b[0;34m:\u001b[0m\u001b[0;34m\u001b[0m\u001b[0m\n\u001b[1;32m   1016\u001b[0m       return self._do_call(_prun_fn, self._session, handle, feed_dict,\n",
      "\u001b[0;32m/home/mmulholland/Documents/learning/tensorflow/tf_env/lib/python3.5/site-packages/tensorflow/python/client/session.py\u001b[0m in \u001b[0;36m_do_call\u001b[0;34m(self, fn, *args)\u001b[0m\n\u001b[1;32m   1032\u001b[0m         \u001b[0;32mexcept\u001b[0m \u001b[0mKeyError\u001b[0m\u001b[0;34m:\u001b[0m\u001b[0;34m\u001b[0m\u001b[0m\n\u001b[1;32m   1033\u001b[0m           \u001b[0;32mpass\u001b[0m\u001b[0;34m\u001b[0m\u001b[0m\n\u001b[0;32m-> 1034\u001b[0;31m       \u001b[0;32mraise\u001b[0m \u001b[0mtype\u001b[0m\u001b[0;34m(\u001b[0m\u001b[0me\u001b[0m\u001b[0;34m)\u001b[0m\u001b[0;34m(\u001b[0m\u001b[0mnode_def\u001b[0m\u001b[0;34m,\u001b[0m \u001b[0mop\u001b[0m\u001b[0;34m,\u001b[0m \u001b[0mmessage\u001b[0m\u001b[0;34m)\u001b[0m\u001b[0;34m\u001b[0m\u001b[0m\n\u001b[0m\u001b[1;32m   1035\u001b[0m \u001b[0;34m\u001b[0m\u001b[0m\n\u001b[1;32m   1036\u001b[0m   \u001b[0;32mdef\u001b[0m \u001b[0m_extend_graph\u001b[0m\u001b[0;34m(\u001b[0m\u001b[0mself\u001b[0m\u001b[0;34m)\u001b[0m\u001b[0;34m:\u001b[0m\u001b[0;34m\u001b[0m\u001b[0m\n",
      "\u001b[0;31mInvalidArgumentError\u001b[0m: targets[1] is out of range\n\t [[Node: InTopK = InTopK[T=DT_INT32, k=1, _device=\"/job:localhost/replica:0/task:0/cpu:0\"](softmax_linear/add, _recv_Placeholder_1_0)]]\n\nCaused by op 'InTopK', defined at:\n  File \"/home/mmulholland/Documents/learning/tensorflow/tf_env/lib/python3.5/runpy.py\", line 184, in _run_module_as_main\n    \"__main__\", mod_spec)\n  File \"/home/mmulholland/Documents/learning/tensorflow/tf_env/lib/python3.5/runpy.py\", line 85, in _run_code\n    exec(code, run_globals)\n  File \"/home/mmulholland/Documents/learning/tensorflow/tf_env/lib/python3.5/site-packages/ipykernel/__main__.py\", line 3, in <module>\n    app.launch_new_instance()\n  File \"/home/mmulholland/Documents/learning/tensorflow/tf_env/lib/python3.5/site-packages/traitlets/config/application.py\", line 653, in launch_instance\n    app.start()\n  File \"/home/mmulholland/Documents/learning/tensorflow/tf_env/lib/python3.5/site-packages/ipykernel/kernelapp.py\", line 474, in start\n    ioloop.IOLoop.instance().start()\n  File \"/home/mmulholland/Documents/learning/tensorflow/tf_env/lib/python3.5/site-packages/zmq/eventloop/ioloop.py\", line 177, in start\n    super(ZMQIOLoop, self).start()\n  File \"/home/mmulholland/Documents/learning/tensorflow/tf_env/lib/python3.5/site-packages/tornado/ioloop.py\", line 887, in start\n    handler_func(fd_obj, events)\n  File \"/home/mmulholland/Documents/learning/tensorflow/tf_env/lib/python3.5/site-packages/tornado/stack_context.py\", line 275, in null_wrapper\n    return fn(*args, **kwargs)\n  File \"/home/mmulholland/Documents/learning/tensorflow/tf_env/lib/python3.5/site-packages/zmq/eventloop/zmqstream.py\", line 440, in _handle_events\n    self._handle_recv()\n  File \"/home/mmulholland/Documents/learning/tensorflow/tf_env/lib/python3.5/site-packages/zmq/eventloop/zmqstream.py\", line 472, in _handle_recv\n    self._run_callback(callback, msg)\n  File \"/home/mmulholland/Documents/learning/tensorflow/tf_env/lib/python3.5/site-packages/zmq/eventloop/zmqstream.py\", line 414, in _run_callback\n    callback(*args, **kwargs)\n  File \"/home/mmulholland/Documents/learning/tensorflow/tf_env/lib/python3.5/site-packages/tornado/stack_context.py\", line 275, in null_wrapper\n    return fn(*args, **kwargs)\n  File \"/home/mmulholland/Documents/learning/tensorflow/tf_env/lib/python3.5/site-packages/ipykernel/kernelbase.py\", line 276, in dispatcher\n    return self.dispatch_shell(stream, msg)\n  File \"/home/mmulholland/Documents/learning/tensorflow/tf_env/lib/python3.5/site-packages/ipykernel/kernelbase.py\", line 228, in dispatch_shell\n    handler(stream, idents, msg)\n  File \"/home/mmulholland/Documents/learning/tensorflow/tf_env/lib/python3.5/site-packages/ipykernel/kernelbase.py\", line 390, in execute_request\n    user_expressions, allow_stdin)\n  File \"/home/mmulholland/Documents/learning/tensorflow/tf_env/lib/python3.5/site-packages/ipykernel/ipkernel.py\", line 196, in do_execute\n    res = shell.run_cell(code, store_history=store_history, silent=silent)\n  File \"/home/mmulholland/Documents/learning/tensorflow/tf_env/lib/python3.5/site-packages/ipykernel/zmqshell.py\", line 501, in run_cell\n    return super(ZMQInteractiveShell, self).run_cell(*args, **kwargs)\n  File \"/home/mmulholland/Documents/learning/tensorflow/tf_env/lib/python3.5/site-packages/IPython/core/interactiveshell.py\", line 2717, in run_cell\n    interactivity=interactivity, compiler=compiler, result=result)\n  File \"/home/mmulholland/Documents/learning/tensorflow/tf_env/lib/python3.5/site-packages/IPython/core/interactiveshell.py\", line 2821, in run_ast_nodes\n    if self.run_code(code, result):\n  File \"/home/mmulholland/Documents/learning/tensorflow/tf_env/lib/python3.5/site-packages/IPython/core/interactiveshell.py\", line 2881, in run_code\n    exec(code_obj, self.user_global_ns, self.user_ns)\n  File \"<ipython-input-34-e27d4ffe5b4a>\", line 24, in <module>\n    eval_correct = evaluation(logits, labels_placeholder)\n  File \"<ipython-input-31-6cb429fd6c59>\", line 137, in evaluation\n    correct = tf.nn.in_top_k(logits, labels, 1)\n  File \"/home/mmulholland/Documents/learning/tensorflow/tf_env/lib/python3.5/site-packages/tensorflow/python/ops/gen_nn_ops.py\", line 1449, in in_top_k\n    targets=targets, k=k, name=name)\n  File \"/home/mmulholland/Documents/learning/tensorflow/tf_env/lib/python3.5/site-packages/tensorflow/python/framework/op_def_library.py\", line 759, in apply_op\n    op_def=op_def)\n  File \"/home/mmulholland/Documents/learning/tensorflow/tf_env/lib/python3.5/site-packages/tensorflow/python/framework/ops.py\", line 2240, in create_op\n    original_op=self._default_original_op, op_def=op_def)\n  File \"/home/mmulholland/Documents/learning/tensorflow/tf_env/lib/python3.5/site-packages/tensorflow/python/framework/ops.py\", line 1128, in __init__\n    self._traceback = _extract_stack()\n\nInvalidArgumentError (see above for traceback): targets[1] is out of range\n\t [[Node: InTopK = InTopK[T=DT_INT32, k=1, _device=\"/job:localhost/replica:0/task:0/cpu:0\"](softmax_linear/add, _recv_Placeholder_1_0)]]\n"
     ]
    }
   ],
   "source": [
    "# Tell TensorFlow that the model will be built into the default Graph.\n",
    "with tf.Graph().as_default():\n",
    "\n",
    "    # Generate placeholders for the input feature data and labels.\n",
    "    inputs_placeholder = tf.placeholder(tf.float32, shape=(batch_size,\n",
    "                                                           NUM_FEATURES))\n",
    "    labels_placeholder = tf.placeholder(tf.int32, shape=(batch_size))\n",
    "\n",
    "    # Build a Graph that computes predictions from the inference model.\n",
    "    logits = inference(inputs_placeholder,\n",
    "                       NUM_FEATURES,\n",
    "                       NUM_CLASSES,\n",
    "                       hidden1,\n",
    "                       hidden2,\n",
    "                       hidden3)\n",
    "\n",
    "    # Add to the Graph the Ops for loss calculation.\n",
    "    loss_ = loss(logits, labels_placeholder)\n",
    "\n",
    "    # Add to the Graph the Ops that calculate and apply gradients.\n",
    "    train_op = training(loss_, learning_rate)\n",
    "\n",
    "    # Add the Op to compare the logits to the labels during evaluation.\n",
    "    eval_correct = evaluation(logits, labels_placeholder)\n",
    "\n",
    "    # Build the summary Tensor based on the TF collection of Summaries.\n",
    "    summary = tf.summary.merge_all()\n",
    "\n",
    "    # Add the variable initializer Op.\n",
    "    init = tf.global_variables_initializer()\n",
    "\n",
    "    # Create a saver for writing training checkpoints.\n",
    "    saver = tf.train.Saver()\n",
    "\n",
    "    # Create a session for running Ops on the Graph.\n",
    "    sess = tf.Session()\n",
    "\n",
    "    # Instantiate a SummaryWriter to output summaries and the Graph.\n",
    "    summary_writer = tf.summary.FileWriter(log_dir_path, sess.graph)\n",
    "\n",
    "    # And then after everything is built:\n",
    "\n",
    "    # Run the Op to initialize the variables.\n",
    "    sess.run(init)\n",
    "\n",
    "    # Start the training loop.\n",
    "    for step in range(max_steps):\n",
    "        start_time = time.time()\n",
    "\n",
    "        # Fill a feed dictionary with the actual set of images and labels\n",
    "        # for this particular training step.\n",
    "        feed_dict = fill_feed_dict(train_features, train_labels,\n",
    "                                   inputs_placeholder,\n",
    "                                   labels_placeholder,\n",
    "                                   batch_size)\n",
    "\n",
    "        # Run one step of the model.  The return values are the activations\n",
    "        # from the `train_op` (which is discarded) and the `loss` Op.  To\n",
    "        # inspect the values of your Ops or variables, you may include them\n",
    "        # in the list passed to sess.run() and the value tensors will be\n",
    "        # returned in the tuple from the call.\n",
    "        _, loss_value = sess.run([train_op, loss_],\n",
    "                                 feed_dict=feed_dict)\n",
    "\n",
    "        duration = time.time() - start_time\n",
    "\n",
    "        # Write the summaries and print an overview fairly often.\n",
    "        if step % 100 == 0:\n",
    "\n",
    "            # Print status to stdout.\n",
    "            print('Step %d: loss = %.2f (%.3f sec)' % (step, loss_value, duration))\n",
    "            # Update the events file.\n",
    "            summary_str = sess.run(summary, feed_dict=feed_dict)\n",
    "            summary_writer.add_summary(summary_str, step)\n",
    "            summary_writer.flush()\n",
    "        \n",
    "        # Save a checkpoint and evaluate the model periodically.\n",
    "        if (step + 1) % 1000 == 0 or (step + 1) == max_steps:\n",
    "            checkpoint_file = join(log_dir_path, 'model.ckpt')\n",
    "            saver.save(sess, checkpoint_file, global_step=step)\n",
    "\n",
    "            # Evaluate against the training set.\n",
    "            print('Test Data Eval:')\n",
    "            do_eval(sess,\n",
    "                    eval_correct,\n",
    "                    inputs_placeholder,\n",
    "                    labels_placeholder,\n",
    "                    train_features, train_labels)\n",
    "\n",
    "            # Evaluate against the validation set.\n",
    "            print('Validation Data Eval:')\n",
    "            do_eval(sess,\n",
    "                    eval_correct,\n",
    "                    inputs_placeholder,\n",
    "                    labels_placeholder,\n",
    "                    validation_features, validation_labels)\n",
    "\n",
    "            # Evaluate against the test set.\n",
    "            print('Test Data Eval:')\n",
    "            do_eval(sess,\n",
    "                    eval_correct,\n",
    "                    inputs_placeholder,\n",
    "                    labels_placeholder,\n",
    "                    test_features, test_labels)"
   ]
  },
  {
   "cell_type": "code",
   "execution_count": null,
   "metadata": {
    "collapsed": true
   },
   "outputs": [],
   "source": []
  }
 ],
 "metadata": {
  "kernelspec": {
   "display_name": "Python 3",
   "language": "python",
   "name": "python3"
  },
  "language_info": {
   "codemirror_mode": {
    "name": "ipython",
    "version": 3
   },
   "file_extension": ".py",
   "mimetype": "text/x-python",
   "name": "python",
   "nbconvert_exporter": "python",
   "pygments_lexer": "ipython3",
   "version": "3.5.2"
  }
 },
 "nbformat": 4,
 "nbformat_minor": 2
}
